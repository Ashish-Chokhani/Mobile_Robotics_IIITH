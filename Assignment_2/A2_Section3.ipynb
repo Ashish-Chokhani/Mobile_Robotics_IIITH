{
 "cells": [
  {
   "cell_type": "markdown",
   "id": "41f7788c",
   "metadata": {},
   "source": [
    "## Assignment 2 Section 3: Pose Graph Optimization"
   ]
  },
  {
   "cell_type": "markdown",
   "id": "81d4e1c8",
   "metadata": {},
   "source": [
    "**Team Name**: Team_Robusta \n",
    "\n",
    "**IDs**: 2021102016 , 2021102028\n",
    "\n",
    "**Name**: Ashish Chokhani , Umang Sharma"
   ]
  },
  {
   "cell_type": "markdown",
   "id": "5d3824c8",
   "metadata": {},
   "source": [
    "### General Information\n",
    "1. The subparts for this question are in the `parts/` folder.\n",
    "2. Relevant information for parts of this question can be found in `examples/`\n",
    "3. Part 3 of this question on _Trajectory Evaluation and g2o_ is a bonus part. Marks obtained for Part 3 can be used to cover up for any marks lost elsewhere in Assignment 2."
   ]
  },
  {
   "cell_type": "markdown",
   "id": "57d8df07",
   "metadata": {},
   "source": [
    "### Introduction"
   ]
  },
  {
   "cell_type": "markdown",
   "id": "955f7274",
   "metadata": {},
   "source": [
    "In this question, we are going to use a non-linear weighted least squares optimization approach to improve our estimate of a robot's trajectory. We focus on pose-graph optimization for 2D SLAM, and get familiar with the problem formulation, optimization, and evaluation metrics.\n",
    "\n",
    "### Recap\n",
    "\n",
    "In a 2D world, a robot has 3 degrees of freedom, i.e. its pose in the world can be expressed by the state vector $\\mathbf{x}=(x, y, \\theta)^{\\mathrm{T}}$. For the scope of this question, we are interested only in the robot's trajectory through the $2 \\mathrm{D}$ world, and NOT in distinct landmarks or the surronding map of the environment, i.e. we are only interested in \"L\"ocalization part of SLAM. \n",
    "\n",
    "Therefore, we can represent it as a graph where the vertices represent robot poses $\\mathbf{x}_{i}$ and edges represent the spatial constraints between these poses. Such a map is generally called a pose graph.\n",
    "\n",
    "Two different kinds of constraints are necessary for pose graph SLAM. The first are\n",
    "odometric constraints that connect two successive states $\\mathbf{x}_{i}$ and $\\mathbf{x}_{i+1}$ via a motion model. Furthermore, in order to perform loop closing, the robot has to recognize places it already visited before. This place recognition is also a part of the front-end and provides the second type of constraint, the loop closure constraints. These constraints connect two not necessarily successive poses $\\mathbf{x}_{i}$ and $\\mathbf{x}_{j}$.\n",
    "\n",
    "\n",
    "![SLAM-trajectory-lc.png](misc/SLAM-trajectory-lc.png)   ![SLAM-trajectory-robust.png](misc/SLAM-trajectory-robust.png) Source: [Sunderhauf 2012](https://core.ac.uk/download/pdf/89299995.pdf)\n",
    "\n",
    "You will start from the inaccurate pose graph with odometry and loop closure information and by the end of this question, you end up with an optimized pose graph (see above images) which should look close to ground truth trajectory. You can watch [this video](https://youtu.be/saVZtgPyyJQ) to get an intuition for what we're about to do.\n"
   ]
  },
  {
   "cell_type": "markdown",
   "id": "8e043cd4",
   "metadata": {},
   "source": [
    "### 1. Pose Graph Optimization for 1D SLAM\n",
    "\n",
    "Here, you must replicate a solved example for 1D SLAM, which optimises for pose using least squares. Refer to the notebook `parts/Part 1 - 1D SLAM.ipynb` for more information. Solve the question in that notebook itself."
   ]
  },
  {
   "cell_type": "markdown",
   "id": "53d2842d",
   "metadata": {},
   "source": [
    "### 2. Pose Graph Optimization for 2D SLAM\n",
    "\n",
    "You are given a sample noisy trajectory that you must optimise using pose-graph optimization here. Refer to the notebook `parts/Part 2 - 2D SLAM.ipynb` for more information.\n",
    "\n",
    "There are 3 main tasks in this part:\n",
    "1. LM implementation\n",
    "2. Plots and explanation\n",
    "3. Jacobian and Residual Calculation"
   ]
  },
  {
   "cell_type": "markdown",
   "id": "61533c45",
   "metadata": {},
   "source": [
    "### 3. Trajectory Evaluation and g2o (Bonus Question)\n",
    "\n",
    "Evaluate the optimised trajectory using Evo and play around with the g2o tool to obtain an even better optimised trajectory in `parts/Part 3 - Trajectory Evaluation and g2o.ipynb`. "
   ]
  }
 ],
 "metadata": {
  "kernelspec": {
   "display_name": "Python 3",
   "language": "python",
   "name": "python3"
  },
  "language_info": {
   "codemirror_mode": {
    "name": "ipython",
    "version": 3
   },
   "file_extension": ".py",
   "mimetype": "text/x-python",
   "name": "python",
   "nbconvert_exporter": "python",
   "pygments_lexer": "ipython3",
   "version": "3.8.3"
  }
 },
 "nbformat": 4,
 "nbformat_minor": 5
}
