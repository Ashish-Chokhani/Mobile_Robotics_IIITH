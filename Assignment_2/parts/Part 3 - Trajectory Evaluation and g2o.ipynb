{
 "cells": [
  {
   "cell_type": "markdown",
   "metadata": {},
   "source": [
    "### Part 3: Trajectory Evaluation and g2o"
   ]
  },
  {
   "cell_type": "markdown",
   "metadata": {},
   "source": [
    "_Refer to the example notebooks for installation instructions_"
   ]
  },
  {
   "cell_type": "markdown",
   "metadata": {},
   "source": [
    "### Evo"
   ]
  },
  {
   "cell_type": "markdown",
   "metadata": {},
   "source": [
    "So you've implemented 2D SLAM, great! Now, what? We need a measure of how good the trajectory is. The error/loss used earlier doesn't tell us much about how the trajectory differs from the ground truth. Here, we try to do just this - compute error metrics. Rather than computing these from scratch, we will just Evo - https://github.com/MichaelGrupp/evo/."
   ]
  },
  {
   "cell_type": "markdown",
   "metadata": {},
   "source": [
    "Look at the absolute pose error (APE) and relative pose error (RPE). What do they capture and how are they calculated (descriptive answer)? How do these metrics differ in methodology? Can we determine if the error is more along the x/y axis?\n",
    "\n",
    "Answer the above questions and report errors for the obtained trajectory."
   ]
  },
  {
   "cell_type": "markdown",
   "id": "2e6221ba",
   "metadata": {},
   "source": [
    "## Answer the above questions. Also include plots/images.\n",
    "\n",
    "## APE \n",
    "\n",
    "The global consistency can be evaluated by comparing the absolute distances between estimated and ground truth trajectory. The APE is the error calculated from the difference between the estimated trajectory and the ground truth.\n",
    "\n",
    "The process of calculating the Absolute Pose Error typically involves comparing the absolute distances between the estimated and ground truth trajectory positions. The orientations are compared using the absolute differences in orientation representations, such as quaternions or rotation matrices.\n",
    "\n",
    "## RPE\n",
    "\n",
    "The relative pose error measures the local accuracy of the trajectory over a fixed time interval ∆. Therefore, the relative pose error corresponds to the drift of the trajectory which is in particular useful for the evaluation of visual odometry systems.\n",
    "\n",
    "To compute the relative pose error, you typically compare the estimated poses obtained at different time instances with the ground truth poses. The relative pose error can be computed using various metrics, such as the Euclidean distance between the estimated and ground truth poses, or the angular difference between their orientations.\n",
    "\n",
    "\n",
    "\n",
    "The Absolute Pose Error (APE) and Relative Pose Error (RPE) are both metrics used in the evaluation of the accuracy and consistency of estimated trajectories compared to ground truth trajectories. While they both assess the accuracy of the trajectory estimation, they differ in terms of the scope and the specific type of error they measure.\n",
    "\n",
    "Can we determine if the error is more along the x/y axis?\n",
    "\n",
    "Yes , we can do that by changing the formulas to calculate the errors and calculate it just along one axis\n",
    "\n",
    "This can help in understanding the predominant direction of the error and provide insights into potential sources of inaccuracies or biases in the trajectory estimation.\n",
    "\n",
    "\n",
    "\n",
    "<img src=\"./Plots/align.png\" width=\"400px\" height=\"400px\" > </img>\n",
    "\n",
    "<img src=\"./Plots/ape.png\" width=\"400px\" height=\"400px\" > </img>\n"
   ]
  },
  {
   "cell_type": "markdown",
   "id": "52359fc3",
   "metadata": {},
   "source": [
    "Try to play around with this tool and add any other plots that you think might be relevant/interesting."
   ]
  },
  {
   "cell_type": "markdown",
   "id": "caf38a6f",
   "metadata": {},
   "source": [
    "### g2o"
   ]
  },
  {
   "cell_type": "markdown",
   "id": "4c5bc6e6",
   "metadata": {},
   "source": [
    "Install g2o as mentioned in `examples/g2o.ipynb` and optimise `edges.txt`, the file you used earlier. Also use `g2o_viewer` and optimize `intel` (a trajectory in the Intel research lab) and `sphere`. They should look something like:\n",
    "\n",
    "\n",
    "<table><tr>\n",
    "<td> <img src=\"../misc/intel.jpg\" alt=\"Drawing\" style=\"width: 250px;\"/> </td>\n",
    "<td> <img src=\"../misc/sphere.jpg\" alt=\"Drawing\" style=\"width: 250px;\"/> </td>\n",
    "</tr></table>"
   ]
  },
  {
   "cell_type": "markdown",
   "id": "1dc7e87c",
   "metadata": {},
   "source": [
    "Write briefly about your observations and try out few options in the GUI. What do they do, how do they perform?"
   ]
  },
  {
   "cell_type": "markdown",
   "id": "5f3c58d9",
   "metadata": {},
   "source": [
    "# Obserations\n",
    "\n"
   ]
  },
  {
   "cell_type": "markdown",
   "id": "4135921c",
   "metadata": {},
   "source": [
    "<img src=\"./Plots/sphere.png\" width=\"500px\" height=\"500px\" ></img>\n",
    "\n",
    "<img src=\"./Plots/intel.png\" width=\"500px\" height=\"500px\"></img>\n",
    "\n",
    "1.Employing a strong and reliable algorithm significantly improved the overall performance of the system.\n",
    "\n",
    "2.The utilization of the Huber algorithm resulted in outcomes that closely mirrored the expected values. Despite the algorithm yielding very low error values, there were instances where the generated outputs didn't match the expected values as closely as anticipated.\n",
    "\n",
    "3.Both the Levenberg-Marquardt and Gauss-Newton algorithms were implemented, leading to fairly comparable outcomes in both cases.\n",
    "\n",
    "4.Specifically in the scenario involving the sphere, it was observed that the convergence of the system required a greater number of iterations compared to the instances involving the intel and trajectory, where convergence was achieved much more rapidly."
   ]
  }
 ],
 "metadata": {
  "kernelspec": {
   "display_name": "Python 3",
   "language": "python",
   "name": "python3"
  },
  "language_info": {
   "codemirror_mode": {
    "name": "ipython",
    "version": 3
   },
   "file_extension": ".py",
   "mimetype": "text/x-python",
   "name": "python",
   "nbconvert_exporter": "python",
   "pygments_lexer": "ipython3",
   "version": "3.10.13"
  }
 },
 "nbformat": 4,
 "nbformat_minor": 5
}
