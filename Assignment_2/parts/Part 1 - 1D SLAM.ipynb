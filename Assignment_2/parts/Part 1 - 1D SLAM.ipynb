{
 "cells": [
  {
   "cell_type": "markdown",
   "metadata": {},
   "source": [
    "### Part 1:  Pose Graph Optimization for 1D SLAM"
   ]
  },
  {
   "cell_type": "markdown",
   "metadata": {},
   "source": [
    "A solved example for 1D SLAM which optimizes for pose variables using weighted least squares method (Gauss Newton) has been explained in the class. You can view it at `examples/1D-SLAM.ipynb`. Your first task is to code this from scratch.\n",
    "\n",
    "For this section, you have to calculate Jacobian analytically yourself and use it. However, you can check how correct it is using `jax`'s `jacobian`. Its usage is explained in the supplementary notebook (`examples/`)."
   ]
  },
  {
   "cell_type": "markdown",
   "metadata": {},
   "source": [
    "### How to get started?\n",
    "\n",
    "1. Go through the example and understand the optimization procedure.\n",
    "2. Generate the data as in the example.\n",
    "3. Write the derivatives of the function with respect to the constraints\n",
    "4. Create the final jacobian and write the update steps using Gauss Newton\n",
    "\n",
    "This tiny example will help make sense of the next question, as it's largely just an extension of this."
   ]
  },
  {
   "cell_type": "markdown",
   "metadata": {},
   "source": [
    "Finally, plot the loop closure constraint, poses, and error at every iteration as well. Since this is a one dimensional example, you can just assume x = y."
   ]
  },
  {
   "cell_type": "code",
   "execution_count": 6,
   "id": "48b0e40a",
   "metadata": {},
   "outputs": [],
   "source": [
    "import os\n",
    "import math\n",
    "import numpy as np\n",
    "import matplotlib.pyplot as plt\n",
    "import copy"
   ]
  },
  {
   "cell_type": "code",
   "execution_count": 10,
   "id": "c656d7bb",
   "metadata": {},
   "outputs": [
    {
     "name": "stdout",
     "output_type": "stream",
     "text": [
      "Initial estimate: [ 0.  -0.4 -0.1  0.5 -0.5  0. ]\n"
     ]
    }
   ],
   "source": [
    "u = np.array([1.1, 1.0, 1.1, -2.7, 0.0])\n",
    "x_od = np.array([0.0, 1.1, 2.5, 3.7, 0.5])\n",
    "x_gt = np.array([0.0, 1, 2, 3, 0])\n",
    "covariance_mat = np.diag([0.01, 0.01, 0.01, 0.01, 0.01, 0.001])\n",
    "\n",
    "info_mat = np.linalg.inv(covariance_mat)\n",
    "\n",
    "def get_fx(x):\n",
    "    return np.array([\n",
    "        x[0] + u[0] - x[1],\n",
    "        x[1] + u[1] - x[2],\n",
    "        x[2] + u[2] - x[3],\n",
    "        x[3] + u[3] - x[4],\n",
    "        x[0] + u[4] - x[4],\n",
    "        x[0] - 0\n",
    "    ])\n",
    "\n",
    "J = np.array([\n",
    "    [1, -1, 0, 0, 0],\n",
    "    [0, 1, -1, 0, 0],\n",
    "    [0, 0, 1, -1, 0],\n",
    "    [0, 0, 0, 1, -1],\n",
    "    [1, 0, 0, 0, -1],\n",
    "    [1, 0, 0, 0, 0]\n",
    "])\n",
    "\n",
    "print(f\"Initial estimate: {get_fx(x_od)}\")\n",
    "\n",
    "H = J.T.dot(info_mat).dot(J)\n",
    "H_inv = np.linalg.inv(H)\n",
    "JtIt = J.T.dot(info_mat.T)"
   ]
  },
  {
   "cell_type": "code",
   "execution_count": 11,
   "id": "64fb1682",
   "metadata": {},
   "outputs": [
    {
     "name": "stdout",
     "output_type": "stream",
     "text": [
      "MSE at 0th iteration is :0.20000000000000004\n",
      "MSE at 1th iteration is :0.005999999999999989\n",
      "MSE at 2th iteration is :0.005999999999999981\n",
      "MSE at 3th iteration is :0.005999999999999997\n",
      "MSE at 4th iteration is :0.005999999999999994\n",
      "MSE at 5th iteration is :0.005999999999999994\n",
      "MSE at 6th iteration is :0.005999999999999994\n",
      "MSE at 7th iteration is :0.005999999999999994\n",
      "MSE at 8th iteration is :0.005999999999999994\n",
      "MSE at 9th iteration is :0.005999999999999994\n"
     ]
    }
   ],
   "source": [
    "epoch = 10\n",
    "x = copy.deepcopy(x_od) \n",
    "for i in range(epoch):\n",
    "    print(f\"MSE at {i}th iteration is :{np.mean((x-x_gt)**2)}\")\n",
    "    b = np.dot(JtIt,get_fx(x))\n",
    "    dx = np.dot(H_inv,-b)\n",
    "    x = x + dx"
   ]
  },
  {
   "cell_type": "code",
   "execution_count": 12,
   "id": "c4ba8f55",
   "metadata": {},
   "outputs": [
    {
     "name": "stdout",
     "output_type": "stream",
     "text": [
      "Ground Truth : [0. 1. 2. 3. 0.]\n",
      "Initial Estimate : [0.  1.1 2.5 3.7 0.5]\n",
      "Final Estimate : [-1.23259516e-32  1.00000000e+00  1.90000000e+00  2.90000000e+00\n",
      "  1.00000000e-01]\n"
     ]
    }
   ],
   "source": [
    "print(f\"Ground Truth : {x_gt}\")\n",
    "print(f\"Initial Estimate : {x_od}\")\n",
    "print(f\"Final Estimate : {x}\")"
   ]
  },
  {
   "cell_type": "code",
   "execution_count": 13,
   "id": "2370dfdd",
   "metadata": {},
   "outputs": [
    {
     "data": {
      "text/plain": [
       "<matplotlib.legend.Legend at 0x7f0370c61de0>"
      ]
     },
     "execution_count": 13,
     "metadata": {},
     "output_type": "execute_result"
    },
    {
     "data": {
      "image/png": "[encoded data removed]",
      "text/plain": [
       "<Figure size 640x480 with 1 Axes>"
      ]
     },
     "metadata": {},
     "output_type": "display_data"
    }
   ],
   "source": [
    "plt.plot(x_gt,x_gt,'x',color=\"r\")\n",
    "plt.plot(x,x,'o',color=\"b\")\n",
    "plt.title('GT vs estimated poses')\n",
    "plt.legend(['Ground Truth','Estimated pose'])"
   ]
  }
 ],
 "metadata": {
  "kernelspec": {
   "display_name": "Python 3",
   "language": "python",
   "name": "python3"
  },
  "language_info": {
   "codemirror_mode": {
    "name": "ipython",
    "version": 3
   },
   "file_extension": ".py",
   "mimetype": "text/x-python",
   "name": "python",
   "nbconvert_exporter": "python",
   "pygments_lexer": "ipython3",
   "version": "3.10.13"
  }
 },
 "nbformat": 4,
 "nbformat_minor": 5
}
